{
 "cells": [
  {
   "cell_type": "code",
   "execution_count": 1,
   "id": "0f7108be-09ce-4be9-9d53-7d8b0f499d58",
   "metadata": {},
   "outputs": [
    {
     "name": "stderr",
     "output_type": "stream",
     "text": [
      "C:\\Users\\wma22\\anaconda3\\envs\\neural\\lib\\site-packages\\tqdm\\auto.py:22: TqdmWarning: IProgress not found. Please update jupyter and ipywidgets. See https://ipywidgets.readthedocs.io/en/stable/user_install.html\n",
      "  from .autonotebook import tqdm as notebook_tqdm\n"
     ]
    }
   ],
   "source": [
    "import spacy"
   ]
  },
  {
   "cell_type": "code",
   "execution_count": 2,
   "id": "64d6b77e-08f6-4ff1-8eba-850ed5d668c4",
   "metadata": {},
   "outputs": [],
   "source": [
    "nlp = spacy.load(\"en_coreference_web_trf\")"
   ]
  },
  {
   "cell_type": "code",
   "execution_count": 13,
   "id": "20373ca9-6763-434a-bdba-d70c3d94b315",
   "metadata": {},
   "outputs": [],
   "source": [
    "text = \"\"\"ere once in the houses protected by the Spaniards and I think this was in the...Palina\n",
    "Street, but I'm not sure. Uh...So I made them give me these people back. There were\n",
    "about 300 of them. By the way in the hotel where I'm staying, Mr. Voni came to see me\n",
    "and he was staying in a house in the...the Gradi No. 25. He was 12 at the time and his\n",
    "memory 1s better than mine and he reminded me of some details of that incident. For\n",
    "example, he told me that there was a little 11 year old girl who came to see me when I\n",
    "went to that house and asked me, \"Please Mr. Save my mother.\" So I said, \"Yes. Yes. Be\n",
    "good and stay put.\" And she came back to me three times with the same request and the\n",
    "last time she came to me and she said, \"Look, if you save my mother I'll go to bed with\n",
    "you.\" So I slapped her. And...uh...then her mother came to me and asked me why I'd\n",
    "slapped her and, of course, I explained to her and perhaps \"\"\"\n",
    "doc = nlp(text)"
   ]
  },
  {
   "cell_type": "code",
   "execution_count": 15,
   "id": "c6557507-2ac3-4ad2-a064-fc23a651f8c3",
   "metadata": {},
   "outputs": [
    {
     "name": "stdout",
     "output_type": "stream",
     "text": [
      "coref_clusters_1\n",
      "[think this, this was]\n",
      "coref_clusters_2\n",
      "[I think, I'm, I made, me these, I'm, me\n",
      ", mine and, me of, me that, me when, I\n",
      ", me,, Mr. Save, I said, me three, me and, you save, you., I slapped, me and, me why, I'd, I explained]\n",
      "coref_clusters_3\n",
      "[the houses protected by the Spaniards and, them give]\n",
      "coref_clusters_4\n",
      "[these people back, them.]\n",
      "coref_clusters_5\n",
      "[Mr. Voni came, he was, He was, his\n",
      ", he reminded, he told]\n",
      "coref_clusters_6\n",
      "[a house in the...the, that house and]\n",
      "coref_clusters_7\n",
      "[a little 11 year old girl who came to see me when, my mother, she came, she came, she said, my mother, I'll, her., her mother, her and]\n",
      "coref_clusters_8\n",
      "[my mother., my mother I]\n",
      "coref_clusters_9\n",
      "[her mother came, her and]\n"
     ]
    }
   ],
   "source": [
    "for key, cluster in doc.spans.items():\n",
    "    print(key)\n",
    "    print(cluster)"
   ]
  },
  {
   "cell_type": "code",
   "execution_count": null,
   "id": "37afe245-1462-4104-9ef9-a7bf59fb27fd",
   "metadata": {},
   "outputs": [],
   "source": []
  }
 ],
 "metadata": {
  "kernelspec": {
   "display_name": "Python 3 (ipykernel)",
   "language": "python",
   "name": "python3"
  },
  "language_info": {
   "codemirror_mode": {
    "name": "ipython",
    "version": 3
   },
   "file_extension": ".py",
   "mimetype": "text/x-python",
   "name": "python",
   "nbconvert_exporter": "python",
   "pygments_lexer": "ipython3",
   "version": "3.9.16"
  }
 },
 "nbformat": 4,
 "nbformat_minor": 5
}
